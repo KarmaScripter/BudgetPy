{
    "cells": [
        {
            "cell_type": "code",
            "execution_count": 1,
            "source": [
                "print( 'Hello World' )"
            ],
            "outputs": [
                {
                    "output_type": "stream",
                    "name": "stdout",
                    "text": [
                        "Hello World\n"
                    ]
                }
            ],
            "metadata": {
                "dotnet_interactive": {
                    "language": "csharp"
                }
            }
        }
    ],
    "metadata": {
        "orig_nbformat": 4,
        "language_info": {
            "name": "python",
            "version": "3.9.11",
            "mimetype": "text/x-python",
            "codemirror_mode": {
                "name": "ipython",
                "version": 3
            },
            "pygments_lexer": "ipython3",
            "nbconvert_exporter": "python",
            "file_extension": ".py"
        },
        "kernelspec": {
            "name": "python3",
            "display_name": "Python 3.9.11 64-bit"
        },
        "interpreter": {
            "hash": "47bc6d458f15490620601e7703de8b762e976baed201b5062517b8cfa803675f"
        }
    },
    "nbformat": 4,
    "nbformat_minor": 2
}