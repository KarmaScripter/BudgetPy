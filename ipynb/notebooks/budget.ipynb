{
    "cells": [],
    "metadata": {
        "orig_nbformat": 4,
        "language_info": {
            "name": "python",
            "version": "3.9.11",
            "mimetype": "text/x-python",
            "codemirror_mode": {
                "name": "ipython",
                "version": 3
            },
            "pygments_lexer": "ipython3",
            "nbconvert_exporter": "python",
            "file_extension": ".py"
        },
        "kernelspec": {
            "name": "python3",
            "display_name": "Python 3.9.11 64-bit"
        },
        "interpreter": {
            "hash": "a5b0de9d6cbcf91278d317c1b356a9535109ad09c4218a4e6805d229d4d85efa"
        }
    },
    "nbformat": 4,
    "nbformat_minor": 2
}