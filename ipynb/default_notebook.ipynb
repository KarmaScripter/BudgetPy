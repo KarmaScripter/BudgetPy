{
    "cells": [
        {
            "cell_type": "code",
            "execution_count": 4,
            "source": [
                "from Ninja import *\r\n",
                "from FileSys import *\r\n",
                "from Control import *\r\n"
            ],
            "outputs": [
                {
                    "output_type": "error",
                    "ename": "NameError",
                    "evalue": "name 'title' is not defined",
                    "traceback": [
                        "\u001b[1;31m---------------------------------------------------------------------------\u001b[0m",
                        "\u001b[1;31mNameError\u001b[0m                                 Traceback (most recent call last)",
                        "Input \u001b[1;32mIn [4]\u001b[0m, in \u001b[0;36m<cell line: 3>\u001b[1;34m()\u001b[0m\n\u001b[0;32m      1\u001b[0m \u001b[38;5;28;01mfrom\u001b[39;00m \u001b[38;5;21;01mNinja\u001b[39;00m \u001b[38;5;28;01mimport\u001b[39;00m \u001b[38;5;241m*\u001b[39m\n\u001b[0;32m      2\u001b[0m \u001b[38;5;28;01mfrom\u001b[39;00m \u001b[38;5;21;01mFileSys\u001b[39;00m \u001b[38;5;28;01mimport\u001b[39;00m \u001b[38;5;241m*\u001b[39m\n\u001b[1;32m----> 3\u001b[0m \u001b[38;5;28;01mfrom\u001b[39;00m \u001b[38;5;21;01mExecution\u001b[39;00m \u001b[38;5;28;01mimport\u001b[39;00m \u001b[38;5;241m*\u001b[39m\n",
                        "File \u001b[1;32m~\\source\\repos\\BudgetPy\\Execution.py:849\u001b[0m, in \u001b[0;36m<module>\u001b[1;34m\u001b[0m\n\u001b[0;32m    845\u001b[0m         \u001b[38;5;28;01mif\u001b[39;00m \u001b[38;5;28misinstance\u001b[39m( \u001b[38;5;28mself\u001b[39m\u001b[38;5;241m.\u001b[39m__code, \u001b[38;5;28mstr\u001b[39m ) \u001b[38;5;129;01mand\u001b[39;00m \u001b[38;5;28mself\u001b[39m\u001b[38;5;241m.\u001b[39m__code \u001b[38;5;241m!=\u001b[39m \u001b[38;5;124m'\u001b[39m\u001b[38;5;124m'\u001b[39m:\n\u001b[0;32m    846\u001b[0m             \u001b[38;5;28;01mreturn\u001b[39;00m \u001b[38;5;28mself\u001b[39m\u001b[38;5;241m.\u001b[39m__code\n\u001b[1;32m--> 849\u001b[0m \u001b[38;5;28;01mclass\u001b[39;00m \u001b[38;5;21;01mFund\u001b[39;00m( ):\n\u001b[0;32m    850\u001b[0m     \u001b[38;5;124;03m'''Defines the Fund Class'''\u001b[39;00m\n\u001b[0;32m    851\u001b[0m     __fundsid \u001b[38;5;241m=\u001b[39m \u001b[38;5;28;01mNone\u001b[39;00m\n",
                        "File \u001b[1;32m~\\source\\repos\\BudgetPy\\Execution.py:919\u001b[0m, in \u001b[0;36mFund\u001b[1;34m()\u001b[0m\n\u001b[0;32m    916\u001b[0m     \u001b[38;5;28;01mif\u001b[39;00m \u001b[38;5;28misinstance\u001b[39m( \u001b[38;5;28mself\u001b[39m\u001b[38;5;241m.\u001b[39m__title, \u001b[38;5;28mstr\u001b[39m ) \u001b[38;5;129;01mand\u001b[39;00m \u001b[38;5;28mself\u001b[39m\u001b[38;5;241m.\u001b[39m__title \u001b[38;5;241m!=\u001b[39m \u001b[38;5;124m'\u001b[39m\u001b[38;5;124m'\u001b[39m:\n\u001b[0;32m    917\u001b[0m         \u001b[38;5;28;01mreturn\u001b[39;00m \u001b[38;5;28mself\u001b[39m\u001b[38;5;241m.\u001b[39m__title\n\u001b[1;32m--> 919\u001b[0m \u001b[38;5;129m@title\u001b[39m\u001b[38;5;241m.\u001b[39msetter\n\u001b[0;32m    920\u001b[0m \u001b[38;5;28;01mdef\u001b[39;00m \u001b[38;5;21mshortname\u001b[39m( \u001b[38;5;28mself\u001b[39m, title ):\n\u001b[0;32m    921\u001b[0m     \u001b[38;5;28;01mif\u001b[39;00m \u001b[38;5;28misinstance\u001b[39m( title , \u001b[38;5;28mstr\u001b[39m ) \u001b[38;5;129;01mand\u001b[39;00m title \u001b[38;5;241m!=\u001b[39m \u001b[38;5;124m'\u001b[39m\u001b[38;5;124m'\u001b[39m:\n\u001b[0;32m    922\u001b[0m         \u001b[38;5;28mself\u001b[39m\u001b[38;5;241m.\u001b[39m__title \u001b[38;5;241m=\u001b[39m title\n",
                        "\u001b[1;31mNameError\u001b[0m: name 'title' is not defined"
                    ]
                }
            ],
            "metadata": {}
        },
        {
            "cell_type": "code",
            "execution_count": null,
            "source": [],
            "outputs": [],
            "metadata": {}
        }
    ],
    "metadata": {
        "orig_nbformat": 4,
        "language_info": {
            "name": "python",
            "version": "3.9.11",
            "mimetype": "text/x-python",
            "codemirror_mode": {
                "name": "ipython",
                "version": 3
            },
            "pygments_lexer": "ipython3",
            "nbconvert_exporter": "python",
            "file_extension": ".py"
        },
        "kernelspec": {
            "name": "python3",
            "display_name": "Python 3.9.11 64-bit"
        },
        "interpreter": {
            "hash": "a5b0de9d6cbcf91278d317c1b356a9535109ad09c4218a4e6805d229d4d85efa"
        }
    },
    "nbformat": 4,
    "nbformat_minor": 2
}