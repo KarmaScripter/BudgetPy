{
 "cells": [
  {
   "cell_type": "code",
   "execution_count": null,
   "id": "2f147c8b-3737-43a6-9c83-239072133b5f",
   "metadata": {},
   "outputs": [],
   "source": [
    "print( 'Hello World' )"
   ]
  }
 ],
 "metadata": {
  "kernelspec": {
   "display_name": "",
   "name": ""
  },
  "language_info": {
   "name": ""
  }
 },
 "nbformat": 4,
 "nbformat_minor": 5
}
