{
 "cells": [],
 "metadata": {
  "interpreter": {
   "hash": "47bc6d458f15490620601e7703de8b762e976baed201b5062517b8cfa803675f"
  },
  "kernelspec": {
   "display_name": "Python 3.9.11 64-bit (system)",
   "language": "python",
   "name": "python3"
  },
  "language_info": {
   "codemirror_mode": {
    "name": "ipython",
    "version": 3
   },
   "file_extension": ".py",
   "mimetype": "text/x-python",
   "name": "python",
   "nbconvert_exporter": "python",
   "pygments_lexer": "ipython3",
   "version": "3.9.11"
  }
 },
 "nbformat": 4,
 "nbformat_minor": 5
}
