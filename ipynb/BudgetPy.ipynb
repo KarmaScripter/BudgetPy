{
 "cells": [
  {
   "cell_type": "code",
   "execution_count": 2,
   "metadata": {},
   "outputs": [
    {
     "ename": "ModuleNotFoundError",
     "evalue": "No module named 'Booger'",
     "output_type": "error",
     "traceback": [
      "\u001b[1;31m---------------------------------------------------------------------------\u001b[0m",
      "\u001b[1;31mModuleNotFoundError\u001b[0m                       Traceback (most recent call last)",
      "\u001b[1;32mc:\\Users\\terry\\source\\repos\\BudgetPy\\ipynb\\BudgetPy.ipynb Cell 1'\u001b[0m in \u001b[0;36m<cell line: 1>\u001b[1;34m()\u001b[0m\n\u001b[1;32m----> <a href='vscode-notebook-cell:/c%3A/Users/teppler/source/repos/BudgetPy/ipynb/BudgetPy.ipynb#ch0000000?line=0'>1</a>\u001b[0m \u001b[39mimport\u001b[39;00m \u001b[39mBooger\u001b[39;00m \u001b[39mas\u001b[39;00m \u001b[39mbg\u001b[39;00m\n",
      "\u001b[1;31mModuleNotFoundError\u001b[0m: No module named 'Booger'"
     ]
    }
   ],
   "source": [
    "import Booger as bg\n"
   ]
  }
 ],
 "metadata": {
  "interpreter": {
   "hash": "47bc6d458f15490620601e7703de8b762e976baed201b5062517b8cfa803675f"
  },
  "kernelspec": {
   "display_name": "Python 3.9.11 64-bit (system)",
   "language": "python",
   "name": "python3"
  },
  "language_info": {
   "codemirror_mode": {
    "name": "ipython",
    "version": 3
   },
   "file_extension": ".py",
   "mimetype": "text/x-python",
   "name": "python",
   "nbconvert_exporter": "python",
   "pygments_lexer": "ipython3",
   "version": "3.9.11"
  }
 },
 "nbformat": 4,
 "nbformat_minor": 5
}
