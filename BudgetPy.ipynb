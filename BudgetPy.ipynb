{
 "cells": [
  {
   "cell_type": "markdown",
   "metadata": {},
   "source": []
  },
  {
   "cell_type": "code",
   "execution_count": null,
   "metadata": {},
   "outputs": [],
   "source": [
    "# The following imports the modules needed for the BudgetPy application\n",
    "\n",
    "from importlib import reload\n",
    "import Booger as bg\n",
    "reload( bg )\n",
    "from Booger import *\n",
    "import Ninja as bn\n",
    "reload( bn )\n",
    "from Ninja import *\n",
    "import Static as bs\n",
    "reload( bs )\n",
    "from Static import *\n",
    "import Data as bd\n",
    "reload( bd )\n",
    "from Data import *\n",
    "import FileSys as bf\n",
    "reload( bf )\n",
    "from FileSys import *\n",
    "import Minion as bm\n",
    "reload( bm )\n",
    "from Minion import *\n",
    "print( 'The BudgetPy modules have been loaded!' )"
   ]
  },
  {
   "cell_type": "code",
   "execution_count": null,
   "outputs": [],
   "source": [
    "# The following opens a file dialog and prints the name\n",
    "# of the file.\n",
    "\n",
    "fd = FileDialog( )\n",
    "fd.show( )\n",
    "print( fd )\n"
   ],
   "metadata": {
    "collapsed": false
   }
  }
 ],
 "metadata": {
  "kernelspec": {
   "display_name": "Python 3",
   "language": "python",
   "name": "python3"
  },
  "language_info": {
   "codemirror_mode": {
    "name": "ipython",
    "version": 3
   },
   "file_extension": ".py",
   "mimetype": "text/x-python",
   "name": "python",
   "nbconvert_exporter": "python",
   "pygments_lexer": "ipython3",
   "version": "3.11.4"
  },
  "orig_nbformat": 4
 },
 "nbformat": 4,
 "nbformat_minor": 2
}
