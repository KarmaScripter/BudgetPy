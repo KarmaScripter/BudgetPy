{
 "cells": [
  {
   "cell_type": "markdown",
   "metadata": {},
   "source": []
  },
  {
   "cell_type": "code",
   "execution_count": 1,
   "metadata": {
    "ExecuteTime": {
     "end_time": "2024-01-16T20:39:08.489538700Z",
     "start_time": "2024-01-16T20:38:50.658020100Z"
    }
   },
   "outputs": [
    {
     "ename": "NameError",
     "evalue": "name 'rpio_name' is not defined",
     "output_type": "error",
     "traceback": [
      "\u001B[1;31m---------------------------------------------------------------------------\u001B[0m",
      "\u001B[1;31mNameError\u001B[0m                                 Traceback (most recent call last)",
      "Cell \u001B[1;32mIn[1], line 5\u001B[0m\n\u001B[0;32m      3\u001B[0m reload( bg )\n\u001B[0;32m      4\u001B[0m \u001B[38;5;28;01mfrom\u001B[39;00m \u001B[38;5;21;01mBooger\u001B[39;00m \u001B[38;5;28;01mimport\u001B[39;00m \u001B[38;5;241m*\u001B[39m\n\u001B[1;32m----> 5\u001B[0m \u001B[38;5;28;01mimport\u001B[39;00m \u001B[38;5;21;01mNinja\u001B[39;00m \u001B[38;5;28;01mas\u001B[39;00m \u001B[38;5;21;01mbn\u001B[39;00m\n\u001B[0;32m      6\u001B[0m reload( bn )\n\u001B[0;32m      7\u001B[0m \u001B[38;5;28;01mfrom\u001B[39;00m \u001B[38;5;21;01mNinja\u001B[39;00m \u001B[38;5;28;01mimport\u001B[39;00m \u001B[38;5;241m*\u001B[39m\n",
      "File \u001B[1;32m~\\source\\repos\\BudgetPy\\Ninja.py:25328\u001B[0m\n\u001B[0;32m  25325\u001B[0m             _err \u001B[38;5;241m=\u001B[39m ErrorDialog( _exc )\n\u001B[0;32m  25326\u001B[0m             _err\u001B[38;5;241m.\u001B[39mshow( )\n\u001B[1;32m> 25328\u001B[0m \u001B[38;5;28;43;01mclass\u001B[39;49;00m\u001B[43m \u001B[49m\u001B[38;5;21;43;01mTransfers\u001B[39;49;00m\u001B[43m(\u001B[49m\u001B[43m \u001B[49m\u001B[43mBudgetUnit\u001B[49m\u001B[43m \u001B[49m\u001B[43m)\u001B[49m\u001B[43m:\u001B[49m\n\u001B[0;32m  25329\u001B[0m \u001B[38;5;250;43m    \u001B[39;49m\u001B[38;5;124;43;03m'''\u001B[39;49;00m\n\u001B[0;32m  25330\u001B[0m \u001B[38;5;124;43;03m     Constructor:\u001B[39;49;00m\n\u001B[0;32m  25331\u001B[0m \u001B[38;5;124;43;03m     Transfer( documentnumber: str, pvdr = Provider.SQLite )\u001B[39;49;00m\n\u001B[1;32m   (...)\u001B[0m\n\u001B[0;32m  25334\u001B[0m \u001B[38;5;124;43;03m     Class defines object representing EPA reprogrammings\u001B[39;49;00m\n\u001B[0;32m  25335\u001B[0m \u001B[38;5;124;43;03m     '''\u001B[39;49;00m\n\u001B[0;32m  25336\u001B[0m \u001B[43m    \u001B[49m\u001B[43m__source\u001B[49m\u001B[43m \u001B[49m\u001B[38;5;241;43m=\u001B[39;49m\u001B[43m \u001B[49m\u001B[38;5;28;43;01mNone\u001B[39;49;00m\n",
      "File \u001B[1;32m~\\source\\repos\\BudgetPy\\Ninja.py:25400\u001B[0m, in \u001B[0;36mTransfers\u001B[1;34m()\u001B[0m\n\u001B[0;32m  25397\u001B[0m     \u001B[38;5;28;01mif\u001B[39;00m value \u001B[38;5;129;01mis\u001B[39;00m \u001B[38;5;129;01mnot\u001B[39;00m \u001B[38;5;28;01mNone\u001B[39;00m:\n\u001B[0;32m  25398\u001B[0m         \u001B[38;5;28mself\u001B[39m\u001B[38;5;241m.\u001B[39m__efy \u001B[38;5;241m=\u001B[39m value\n\u001B[1;32m> 25400\u001B[0m \u001B[38;5;129m@rpio_name\u001B[39m\u001B[38;5;241m.\u001B[39msetter\n\u001B[0;32m  25401\u001B[0m \u001B[38;5;28;01mdef\u001B[39;00m \u001B[38;5;21mrpio_name\u001B[39m( \u001B[38;5;28mself\u001B[39m, name ):\n\u001B[0;32m  25402\u001B[0m     \u001B[38;5;28;01mif\u001B[39;00m  name \u001B[38;5;129;01mis\u001B[39;00m \u001B[38;5;129;01mnot\u001B[39;00m \u001B[38;5;28;01mNone\u001B[39;00m:\n\u001B[0;32m  25403\u001B[0m         \u001B[38;5;28mself\u001B[39m\u001B[38;5;241m.\u001B[39m__rpiocode \u001B[38;5;241m=\u001B[39m name\n",
      "\u001B[1;31mNameError\u001B[0m: name 'rpio_name' is not defined"
     ]
    }
   ],
   "source": [
    "from importlib import reload\n",
    "import Booger as bg\n",
    "reload( bg )\n",
    "from Booger import *\n",
    "import Ninja as bn\n",
    "reload( bn )\n",
    "from Ninja import *\n",
    "import Static as bs\n",
    "reload( bs )\n",
    "from Static import *\n",
    "import Data as bd\n",
    "reload( bd )\n",
    "from Data import *\n",
    "import FileSys as bf\n",
    "reload( bf )\n",
    "from FileSys import *\n",
    "import Minion as bm\n",
    "reload( bm )\n",
    "from Minion import *"
   ]
  },
  {
   "cell_type": "code",
   "execution_count": null,
   "outputs": [],
   "source": [],
   "metadata": {
    "collapsed": false
   }
  }
 ],
 "metadata": {
  "kernelspec": {
   "display_name": "Python 3",
   "language": "python",
   "name": "python3"
  },
  "language_info": {
   "codemirror_mode": {
    "name": "ipython",
    "version": 3
   },
   "file_extension": ".py",
   "mimetype": "text/x-python",
   "name": "python",
   "nbconvert_exporter": "python",
   "pygments_lexer": "ipython3",
   "version": "3.11.4"
  },
  "orig_nbformat": 4
 },
 "nbformat": 4,
 "nbformat_minor": 2
}
